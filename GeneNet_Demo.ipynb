{
 "cells": [
  {
   "cell_type": "code",
   "execution_count": 1,
   "metadata": {},
   "outputs": [],
   "source": [
    "from warnings import simplefilter\n",
    "# ignore all future warnings\n",
    "simplefilter(action='ignore', category=FutureWarning)\n",
    "from __future__ import division\n",
    "\n",
    "%matplotlib inline\n",
    "import numpy as np\n",
    "import matplotlib as mpl\n",
    "import matplotlib.pyplot as plt\n",
    "import tensorflow as tf\n",
    "from IPython.display import clear_output\n",
    "from tqdm import tqdm\n",
    "from string import ascii_lowercase\n",
    "import networkx as nx"
   ]
  },
  {
   "cell_type": "markdown",
   "metadata": {},
   "source": [
    "This notebook is an implementation of GeneNet from Hiscock (2019): https://doi.org/10.1186/s12859-019-2788-3."
   ]
  },
  {
   "cell_type": "code",
   "execution_count": 2,
   "metadata": {},
   "outputs": [],
   "source": [
    "np.random.seed(1)\n",
    "tf.set_random_seed(1)\n",
    "\n",
    "# Hyperparameters\n",
    "B = 128 # Batch size\n",
    "N = 300 # timesteps\n",
    "S = 3  # number of species\n",
    "dt = 0.01 # time interval\n",
    "L1 = 0.003 # L1 regularization\n",
    "\n",
    "# Data and dimensions\n",
    "input_ = tf.placeholder(tf.float32, shape=[N,B,S], name='Input') \n",
    "output_ = tf.placeholder(tf.float32, shape=[B], name='Output')\n",
    "initial_ = tf.placeholder(tf.float32, shape=[B,S], name='Initial')\n",
    "\n",
    "# Parameters for optimization\n",
    "W = tf.Variable(tf.random_normal([S,S], mean = 0, stddev = 0.1, dtype = tf.float32), name='weights') # normal initial values\n",
    "A = tf.Variable(1.0, dtype = tf.float32, name='A')\n",
    "\n",
    "# Alternatively define topology here to inspect circuit behaviour manually\n",
    "Wdef = tf.placeholder(tf.float32, shape=[S,S], name='Topo')\n",
    "topo = np.array([[10,0],[-10,1]])\n",
    "\n",
    "# Define a nonlinearity\n",
    "def phi(x):\n",
    "    return 1/(tf.exp(-x)+1) # sigmoid"
   ]
  },
  {
   "cell_type": "code",
   "execution_count": 3,
   "metadata": {},
   "outputs": [],
   "source": [
    "# Define ODE function in TF: use tf.scan to integrate\n",
    "# This function takes initial value initial_ and integrates along time (S) axis\n",
    "\n",
    "def simulate(input_, initial_, W):\n",
    "    output = tf.scan(lambda o,i: o + dt*(phi(tf.matmul(o,W))-o+i),\n",
    "                    elems = input_,\n",
    "                    initializer = initial_,\n",
    "                    swap_memory = True)\n",
    "    return output\n",
    "\n",
    "output = simulate(input_, initial_, W) # Params for training"
   ]
  },
  {
   "cell_type": "code",
   "execution_count": 4,
   "metadata": {},
   "outputs": [],
   "source": [
    "relevantOutput = A*output[N-1,:,1] # final timepoint for species 1 is all we are interested in\n",
    "\n",
    "# Cost function definition\n",
    "cost = tf.reduce_mean(tf.square(((relevantOutput-output_)))) + L1*tf.reduce_mean(tf.abs(W)) # with L1\n",
    "optimizer = tf.train.AdamOptimizer(learning_rate=0.2, beta1=0.98, beta2=0.999, epsilon=1e-08)\n",
    "train_step = optimizer.minimize(cost)"
   ]
  },
  {
   "cell_type": "code",
   "execution_count": 5,
   "metadata": {},
   "outputs": [],
   "source": [
    "# generate training data\n",
    "def newBatch(plot=False):\n",
    "# Batch of size B contains randomly distributed initial concentrations of species 1\n",
    "\n",
    "    initialVal = 0.1*np.ones([B,S]) # some small initial value\n",
    "    if(plot):\n",
    "        inputNoNoise    = np.linspace(0,2,B) # ordered inputs for plot\n",
    "    else:\n",
    "        inputNoNoise    = np.random.uniform(0,2,B)\n",
    "    inputVal = inputNoNoise.reshape(B,1) * np.random.normal(loc=1.0, scale = 0.0001, size=[N,B,S])\n",
    "    inputVal[:,:,1:S] = 0.0 # all concentrations 0 apart from species 1 which is uniformly distributed [0,2]\n",
    "    outputNoNoise = np.zeros(B)\n",
    "    outputNoNoise[np.logical_and(inputNoNoise > 0.5,inputNoNoise < 1.5 )] = 1.0 # where input between 0.5 and 1.5 output is 1 else 0\n",
    "    return [inputNoNoise, inputVal, outputNoNoise, initialVal]"
   ]
  },
  {
   "cell_type": "code",
   "execution_count": 6,
   "metadata": {},
   "outputs": [],
   "source": [
    "def trainModel(iterations, outputEvery=50, plot=True):\n",
    "# Train for set number of iterations, plot every set number of points\n",
    "\n",
    "    if plot:\n",
    "        fig = plt.figure()\n",
    "    \n",
    "    else:\n",
    "        pass\n",
    "\n",
    "    # Run\n",
    "    \n",
    "    for i in tqdm(range(iterations)):\n",
    "        [_,inputVal, outputVal, initialVal] = newBatch(plot=False)\n",
    "        _,loss_value = sess.run((train_step,cost), feed_dict = {input_: inputVal, initial_: initialVal, output_: outputVal})\n",
    "        \n",
    "        if i==0:\n",
    "            itera = np.array([i])\n",
    "            losscurve = np.array([loss_value])\n",
    "        elif i%outputEvery==0:\n",
    "            itera = np.append(itera,i)\n",
    "            losscurve = np.append(losscurve,loss_value)\n",
    "            \n",
    "            [inputNoNoise,inputVal, outputVal, initialVal] = newBatch(plot=True)\n",
    "            finalOutput = sess.run(relevantOutput, feed_dict = {input_: inputVal, initial_: initialVal, output_: outputVal})\n",
    "            \n",
    "            if plot:\n",
    "                f, (ax1, ax2, ax3) = plt.subplots(1, 3, figsize=(14,4))\n",
    "                clear_output(wait=True)\n",
    "\n",
    "                ax1.plot(itera,losscurve,label='loss')\n",
    "                ax1.set_xlabel('Iteration'); ax1.set_ylabel('Loss');\n",
    "#                ax1.legend()\n",
    "                \n",
    "                ax2.plot(inputNoNoise,finalOutput,label='output');\n",
    "                ax2.plot(inputNoNoise,outputVal,'o',label='target output');\n",
    "                ax2.set_xlabel('Input'); ax2.set_ylabel('Output');\n",
    "#                ax2.legend()\n",
    "      \n",
    "                weights = sess.run(W)\n",
    "                G = nx.MultiDiGraph(weights)\n",
    "                labels={}\n",
    "                for idx, node in enumerate(G.nodes()):\n",
    "                    labels[node] = ascii_lowercase[idx]\n",
    "\n",
    "                nx.set_node_attributes(G,labels,'labels')\n",
    "                edge_colors = [j for i in weights for j in i]\n",
    "\n",
    "                # Add self loops as explicit nodes: no way to do this in networkx...\n",
    "                dim = G.number_of_nodes()\n",
    "                for i in range(dim):\n",
    "                    G.add_node(dim+i)\n",
    "                    G.add_edge(i, dim+i, weight=weights[i,i])\n",
    "                    edge_colors.insert(3+4*i, weights[i,i])\n",
    "\n",
    "                pos = nx.layout.spring_layout(G, weight=None, k=0.1, seed=1)\n",
    "                nodes = nx.draw_networkx_nodes(G, pos, node_color='grey')\n",
    "                edges = nx.draw_networkx_edges(G, pos, arrowstyle='->', connectionstyle=\"arc3,rad=0.3\",\n",
    "                                               arrowsize=10, edge_color=edge_colors,\n",
    "                                               edge_cmap=plt.cm.RdBu, width=2)\n",
    "                nx.draw_networkx_labels(G,pos,labels)\n",
    "\n",
    "                ax3 = plt.gca()\n",
    "                ax3.set_axis_off()\n",
    "\n",
    "                plt.show();\n",
    "                \n",
    "            else:\n",
    "                print('Iteration = '+str(i)+', Loss = '+str(loss_value))\n",
    "                "
   ]
  },
  {
   "cell_type": "code",
   "execution_count": 7,
   "metadata": {},
   "outputs": [
    {
     "data": {
      "image/png": "[encoded data removed]",
      "text/plain": [
       "<matplotlib.figure.Figure at 0x127746eb8>"
      ]
     },
     "metadata": {},
     "output_type": "display_data"
    },
    {
     "name": "stderr",
     "output_type": "stream",
     "text": [
      "100%|██████████| 2000/2000 [02:28<00:00, 13.47it/s]\n"
     ]
    }
   ],
   "source": [
    "# Train and plot\n",
    "sess = tf.Session()\n",
    "init = tf.global_variables_initializer()\n",
    "sess.run(init)\n",
    "trainModel(iterations=2000, outputEvery=50, plot=True)\n"
   ]
  },
  {
   "cell_type": "code",
   "execution_count": 8,
   "metadata": {},
   "outputs": [
    {
     "name": "stdout",
     "output_type": "stream",
     "text": [
      "[[ -6.4017005  -3.0497162 -10.121229 ]\n",
      " [ -2.4318218  10.911107    2.4343324]\n",
      " [ -0.8572158  -7.7670584   9.1362095]]\n"
     ]
    },
    {
     "data": {
      "image/png": "[encoded data removed]",
      "text/plain": [
       "<matplotlib.figure.Figure at 0x1305e06a0>"
      ]
     },
     "metadata": {},
     "output_type": "display_data"
    }
   ],
   "source": [
    "def simulateModelFinal():\n",
    "    [inputNoNoise,inputVal, outputVal, initialVal] = newBatch(plot=True)\n",
    "    finalOutput = sess.run(relevantOutput, feed_dict = {input_: inputVal, initial_: initialVal, output_: outputVal})\n",
    "    weights = sess.run(W)\n",
    "    print(weights);\n",
    "    plt.plot(inputNoNoise,finalOutput);\n",
    "    plt.show()\n",
    "    return(weights)\n",
    "\n",
    "finalmodel=simulateModelFinal()"
   ]
  },
  {
   "cell_type": "code",
   "execution_count": null,
   "metadata": {},
   "outputs": [],
   "source": []
  }
 ],
 "metadata": {
  "kernelspec": {
   "display_name": "CF1",
   "language": "python",
   "name": "cf1"
  },
  "language_info": {
   "codemirror_mode": {
    "name": "ipython",
    "version": 3
   },
   "file_extension": ".py",
   "mimetype": "text/x-python",
   "name": "python",
   "nbconvert_exporter": "python",
   "pygments_lexer": "ipython3",
   "version": "3.6.4"
  },
  "latex_envs": {
   "LaTeX_envs_menu_present": true,
   "autoclose": true,
   "autocomplete": true,
   "bibliofile": "biblio.bib",
   "cite_by": "apalike",
   "current_citInitial": 1,
   "eqLabelWithNumbers": true,
   "eqNumInitial": 1,
   "hotkeys": {
    "equation": "Ctrl-E",
    "itemize": "Ctrl-I"
   },
   "labels_anchors": false,
   "latex_user_defs": false,
   "report_style_numbering": false,
   "user_envs_cfg": false
  }
 },
 "nbformat": 4,
 "nbformat_minor": 2
}
